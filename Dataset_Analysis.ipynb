{
 "cells": [
  {
   "cell_type": "code",
   "execution_count": 46,
   "metadata": {
    "collapsed": true
   },
   "outputs": [],
   "source": [
    "import json"
   ]
  },
  {
   "cell_type": "code",
   "execution_count": 47,
   "metadata": {
    "collapsed": true
   },
   "outputs": [],
   "source": [
    "with open(\"train_full.json\") as f:\n",
    "    dataset = json.load(f)"
   ]
  },
  {
   "cell_type": "code",
   "execution_count": 48,
   "metadata": {
    "collapsed": false
   },
   "outputs": [
    {
     "data": {
      "text/plain": [
       "[{'evaluation': 2, 'text': 'Hi', 'userId': 'Bob'},\n",
       " {'evaluation': 0, 'text': 'Hi', 'userId': 'Alice'},\n",
       " {'evaluation': 0, 'text': 'What do you think abouy it?', 'userId': 'Bob'},\n",
       " {'evaluation': 0, 'text': 'About what?', 'userId': 'Alice'},\n",
       " {'evaluation': 0, 'text': 'About text', 'userId': 'Bob'}]"
      ]
     },
     "execution_count": 48,
     "metadata": {},
     "output_type": "execute_result"
    }
   ],
   "source": [
    "dataset[2][\"thread\"]"
   ]
  },
  {
   "cell_type": "markdown",
   "metadata": {},
   "source": [
    "## Number of long dialogs"
   ]
  },
  {
   "cell_type": "code",
   "execution_count": 49,
   "metadata": {
    "collapsed": false
   },
   "outputs": [
    {
     "data": {
      "text/plain": [
       "1719"
      ]
     },
     "execution_count": 49,
     "metadata": {},
     "output_type": "execute_result"
    }
   ],
   "source": [
    "long_dialogs = 0\n",
    "dialog_lens = []\n",
    "\n",
    "for d in dataset:\n",
    "    Alice = 0\n",
    "    Bob = 0\n",
    "    for u in d[\"thread\"]:\n",
    "        if u[\"userId\"] == \"Alice\":\n",
    "            Alice += 1\n",
    "        elif u[\"userId\"] == \"Bob\":\n",
    "            Bob += 1\n",
    "        else: \n",
    "            raise ValueError\n",
    "    \n",
    "    dialog_lens.append(Alice + Bob)\n",
    "    if Alice > 2 and Bob > 2:\n",
    "        long_dialogs += 1\n",
    "\n",
    "long_dialogs"
   ]
  },
  {
   "cell_type": "code",
   "execution_count": 50,
   "metadata": {
    "collapsed": true
   },
   "outputs": [],
   "source": [
    "import matplotlib.pyplot as plt"
   ]
  },
  {
   "cell_type": "markdown",
   "metadata": {},
   "source": [
    "## Dialog length distribution"
   ]
  },
  {
   "cell_type": "code",
   "execution_count": 51,
   "metadata": {
    "collapsed": false
   },
   "outputs": [
    {
     "data": {
      "text/plain": [
       "(array([ 393.,  231.,  141.,  137.,   93.,  256.,  149.,  106.,  130.,\n",
       "          86.,  189.,  115.,   71.,   53.,   71.,   96.,   60.,   50.,\n",
       "          34.,   30.,   48.,   23.,   21.,   23.,   18.,   33.,   15.,\n",
       "          13.,   12.,    7.,   15.,    2.,    7.,    6.,    3.,    5.,\n",
       "           3.,    4.,    1.,    0.,    4.,    3.,    1.,    2.,    1.,\n",
       "           1.,    1.,    0.,    1.,    0.,    3.,    1.,    1.,    0.,\n",
       "           0.,    0.,    0.,    2.,    1.,    0.,    0.,    2.,    0.,\n",
       "           0.,    0.,    0.,    0.,    0.,    0.,    0.,    0.,    1.,\n",
       "           0.,    0.,    0.,    0.,    0.,    0.,    0.,    1.,    0.,\n",
       "           0.,    1.,    0.,    0.,    0.,    0.,    0.,    0.,    0.,\n",
       "           0.,    0.,    0.,    0.,    0.,    0.,    0.,    0.,    0.,    1.]),\n",
       " array([   0. ,    1.2,    2.4,    3.6,    4.8,    6. ,    7.2,    8.4,\n",
       "           9.6,   10.8,   12. ,   13.2,   14.4,   15.6,   16.8,   18. ,\n",
       "          19.2,   20.4,   21.6,   22.8,   24. ,   25.2,   26.4,   27.6,\n",
       "          28.8,   30. ,   31.2,   32.4,   33.6,   34.8,   36. ,   37.2,\n",
       "          38.4,   39.6,   40.8,   42. ,   43.2,   44.4,   45.6,   46.8,\n",
       "          48. ,   49.2,   50.4,   51.6,   52.8,   54. ,   55.2,   56.4,\n",
       "          57.6,   58.8,   60. ,   61.2,   62.4,   63.6,   64.8,   66. ,\n",
       "          67.2,   68.4,   69.6,   70.8,   72. ,   73.2,   74.4,   75.6,\n",
       "          76.8,   78. ,   79.2,   80.4,   81.6,   82.8,   84. ,   85.2,\n",
       "          86.4,   87.6,   88.8,   90. ,   91.2,   92.4,   93.6,   94.8,\n",
       "          96. ,   97.2,   98.4,   99.6,  100.8,  102. ,  103.2,  104.4,\n",
       "         105.6,  106.8,  108. ,  109.2,  110.4,  111.6,  112.8,  114. ,\n",
       "         115.2,  116.4,  117.6,  118.8,  120. ]),\n",
       " <a list of 100 Patch objects>)"
      ]
     },
     "execution_count": 51,
     "metadata": {},
     "output_type": "execute_result"
    },
    {
     "data": {
      "image/png": "[encoded data removed]",
      "text/plain": [
       "<matplotlib.figure.Figure at 0x105a14a20>"
      ]
     },
     "metadata": {},
     "output_type": "display_data"
    }
   ],
   "source": [
    "plt.hist(dialog_lens, bins=100)"
   ]
  },
  {
   "cell_type": "code",
   "execution_count": 52,
   "metadata": {
    "collapsed": false
   },
   "outputs": [
    {
     "data": {
      "text/plain": [
       "{'context': 'Though much of Enlightenment political thought was dominated by social contract theorists, both David Hume and Adam Ferguson criticized this camp. Hume\\'s essay Of the Original Contract argues that governments derived from consent are rarely seen, and civil government is grounded in a ruler\\'s habitual authority and force. It is precisely because of the ruler\\'s authority over-and-against the subject, that the subject tacitly consents; Hume says that the subjects would \"never imagine that their consent made him sovereign\", rather the authority did so. Similarly, Ferguson did not believe citizens built the state, rather polities grew out of social development. In his 1767 An Essay on the History of Civil Society, Ferguson uses the four stages of progress, a theory that was very popular in Scotland at the time, to explain how humans advance from a hunting and gathering society to a commercial and civil society without \"signing\" a social contract.',\n",
       " 'dialogId': -155769874,\n",
       " 'evaluation': [{'breadth': 0,\n",
       "   'engagement': 0,\n",
       "   'quality': 0,\n",
       "   'userId': 'Alice'},\n",
       "  {'breadth': 5, 'engagement': 5, 'quality': 1, 'userId': 'Bob'}],\n",
       " 'thread': [{'evaluation': 0, 'text': 'Hi', 'userId': 'Alice'},\n",
       "  {'evaluation': 0,\n",
       "   'text': 'Who uses the four stages of civil society ?',\n",
       "   'userId': 'Bob'},\n",
       "  {'evaluation': 0,\n",
       "   'text': 'Ehh its incorrect. Hint: first 3 answer letters is \"fer\" ',\n",
       "   'userId': 'Bob'},\n",
       "  {'evaluation': 0, 'text': 'What is your name?', 'userId': 'Alice'},\n",
       "  {'evaluation': 0, 'text': 'What', 'userId': 'Bob'},\n",
       "  {'evaluation': 0, 'text': 'Please, speak with me.', 'userId': 'Bob'},\n",
       "  {'evaluation': 0,\n",
       "   'text': 'Please, speak with me. It gives me energy to live',\n",
       "   'userId': 'Bob'}],\n",
       " 'users': [{'id': 'Alice', 'userType': 'Human'},\n",
       "  {'id': 'Bob', 'userType': 'Bot'}]}"
      ]
     },
     "execution_count": 52,
     "metadata": {},
     "output_type": "execute_result"
    }
   ],
   "source": [
    "dataset[3]"
   ]
  },
  {
   "cell_type": "code",
   "execution_count": 53,
   "metadata": {
    "collapsed": true
   },
   "outputs": [],
   "source": [
    "human_lens = []\n",
    "bot_lens = []\n",
    "for d in dataset:\n",
    "    for user in d[\"users\"]:\n",
    "        if user[\"id\"] == \"Alice\":\n",
    "            Alice = True if user[\"userType\"] == \"Human\" else False\n",
    "        elif user[\"id\"] == \"Bob\":\n",
    "            Bob = True if user[\"userType\"] == \"Human\" else False\n",
    "    for u in d[\"thread\"]:\n",
    "        if u[\"userId\"] == \"Alice\":\n",
    "            if Alice:\n",
    "                human_lens.append(len(u[\"text\"]))\n",
    "            else:\n",
    "                bot_lens.append(len(u[\"text\"]))\n",
    "        elif u[\"userId\"] == \"Bob\":\n",
    "            if Bob:\n",
    "                human_lens.append(len(u[\"text\"]))\n",
    "            else:\n",
    "                bot_lens.append(len(u[\"text\"]))"
   ]
  },
  {
   "cell_type": "code",
   "execution_count": 54,
   "metadata": {
    "collapsed": false
   },
   "outputs": [
    {
     "data": {
      "text/plain": [
       "(array([  1.50360000e+04,   2.33900000e+03,   3.16000000e+02,\n",
       "          7.20000000e+01,   1.90000000e+01,   5.00000000e+00,\n",
       "          5.00000000e+00,   2.00000000e+00,   2.00000000e+00,\n",
       "          3.00000000e+00,   1.00000000e+00,   1.00000000e+00,\n",
       "          0.00000000e+00,   1.00000000e+00,   1.00000000e+00,\n",
       "          0.00000000e+00,   1.00000000e+00,   1.00000000e+00,\n",
       "          0.00000000e+00,   0.00000000e+00,   0.00000000e+00,\n",
       "          1.00000000e+00,   1.00000000e+00,   1.00000000e+00,\n",
       "          0.00000000e+00,   0.00000000e+00,   0.00000000e+00,\n",
       "          0.00000000e+00,   0.00000000e+00,   0.00000000e+00,\n",
       "          0.00000000e+00,   0.00000000e+00,   0.00000000e+00,\n",
       "          0.00000000e+00,   0.00000000e+00,   0.00000000e+00,\n",
       "          0.00000000e+00,   0.00000000e+00,   0.00000000e+00,\n",
       "          0.00000000e+00,   0.00000000e+00,   0.00000000e+00,\n",
       "          0.00000000e+00,   0.00000000e+00,   0.00000000e+00,\n",
       "          0.00000000e+00,   0.00000000e+00,   0.00000000e+00,\n",
       "          1.00000000e+00,   0.00000000e+00,   0.00000000e+00,\n",
       "          0.00000000e+00,   0.00000000e+00,   0.00000000e+00,\n",
       "          0.00000000e+00,   0.00000000e+00,   0.00000000e+00,\n",
       "          0.00000000e+00,   0.00000000e+00,   0.00000000e+00,\n",
       "          0.00000000e+00,   0.00000000e+00,   0.00000000e+00,\n",
       "          0.00000000e+00,   0.00000000e+00,   0.00000000e+00,\n",
       "          0.00000000e+00,   0.00000000e+00,   0.00000000e+00,\n",
       "          0.00000000e+00,   0.00000000e+00,   0.00000000e+00,\n",
       "          0.00000000e+00,   0.00000000e+00,   0.00000000e+00,\n",
       "          0.00000000e+00,   0.00000000e+00,   0.00000000e+00,\n",
       "          0.00000000e+00,   0.00000000e+00,   0.00000000e+00,\n",
       "          0.00000000e+00,   0.00000000e+00,   0.00000000e+00,\n",
       "          0.00000000e+00,   0.00000000e+00,   0.00000000e+00,\n",
       "          0.00000000e+00,   0.00000000e+00,   0.00000000e+00,\n",
       "          0.00000000e+00,   0.00000000e+00,   0.00000000e+00,\n",
       "          0.00000000e+00,   0.00000000e+00,   0.00000000e+00,\n",
       "          0.00000000e+00,   0.00000000e+00,   0.00000000e+00,\n",
       "          2.30000000e+01]),\n",
       " array([  1.00000000e+00,   4.19500000e+01,   8.29000000e+01,\n",
       "          1.23850000e+02,   1.64800000e+02,   2.05750000e+02,\n",
       "          2.46700000e+02,   2.87650000e+02,   3.28600000e+02,\n",
       "          3.69550000e+02,   4.10500000e+02,   4.51450000e+02,\n",
       "          4.92400000e+02,   5.33350000e+02,   5.74300000e+02,\n",
       "          6.15250000e+02,   6.56200000e+02,   6.97150000e+02,\n",
       "          7.38100000e+02,   7.79050000e+02,   8.20000000e+02,\n",
       "          8.60950000e+02,   9.01900000e+02,   9.42850000e+02,\n",
       "          9.83800000e+02,   1.02475000e+03,   1.06570000e+03,\n",
       "          1.10665000e+03,   1.14760000e+03,   1.18855000e+03,\n",
       "          1.22950000e+03,   1.27045000e+03,   1.31140000e+03,\n",
       "          1.35235000e+03,   1.39330000e+03,   1.43425000e+03,\n",
       "          1.47520000e+03,   1.51615000e+03,   1.55710000e+03,\n",
       "          1.59805000e+03,   1.63900000e+03,   1.67995000e+03,\n",
       "          1.72090000e+03,   1.76185000e+03,   1.80280000e+03,\n",
       "          1.84375000e+03,   1.88470000e+03,   1.92565000e+03,\n",
       "          1.96660000e+03,   2.00755000e+03,   2.04850000e+03,\n",
       "          2.08945000e+03,   2.13040000e+03,   2.17135000e+03,\n",
       "          2.21230000e+03,   2.25325000e+03,   2.29420000e+03,\n",
       "          2.33515000e+03,   2.37610000e+03,   2.41705000e+03,\n",
       "          2.45800000e+03,   2.49895000e+03,   2.53990000e+03,\n",
       "          2.58085000e+03,   2.62180000e+03,   2.66275000e+03,\n",
       "          2.70370000e+03,   2.74465000e+03,   2.78560000e+03,\n",
       "          2.82655000e+03,   2.86750000e+03,   2.90845000e+03,\n",
       "          2.94940000e+03,   2.99035000e+03,   3.03130000e+03,\n",
       "          3.07225000e+03,   3.11320000e+03,   3.15415000e+03,\n",
       "          3.19510000e+03,   3.23605000e+03,   3.27700000e+03,\n",
       "          3.31795000e+03,   3.35890000e+03,   3.39985000e+03,\n",
       "          3.44080000e+03,   3.48175000e+03,   3.52270000e+03,\n",
       "          3.56365000e+03,   3.60460000e+03,   3.64555000e+03,\n",
       "          3.68650000e+03,   3.72745000e+03,   3.76840000e+03,\n",
       "          3.80935000e+03,   3.85030000e+03,   3.89125000e+03,\n",
       "          3.93220000e+03,   3.97315000e+03,   4.01410000e+03,\n",
       "          4.05505000e+03,   4.09600000e+03]),\n",
       " <a list of 100 Patch objects>)"
      ]
     },
     "execution_count": 54,
     "metadata": {},
     "output_type": "execute_result"
    },
    {
     "data": {
      "image/png": "[encoded data removed]",
      "text/plain": [
       "<matplotlib.figure.Figure at 0x106789c18>"
      ]
     },
     "metadata": {},
     "output_type": "display_data"
    }
   ],
   "source": [
    "plt.hist(human_lens, bins=100)"
   ]
  },
  {
   "cell_type": "code",
   "execution_count": 55,
   "metadata": {
    "collapsed": false
   },
   "outputs": [
    {
     "data": {
      "text/plain": [
       "(array([  9.59800000e+03,   2.15500000e+03,   7.03000000e+02,\n",
       "          9.20000000e+01,   1.50000000e+01,   2.50000000e+01,\n",
       "          2.00000000e+00,   1.00000000e+00,   1.00000000e+00,\n",
       "          1.00000000e+00,   2.00000000e+00,   1.00000000e+00,\n",
       "          0.00000000e+00,   0.00000000e+00,   0.00000000e+00,\n",
       "          0.00000000e+00,   1.00000000e+00,   0.00000000e+00,\n",
       "          0.00000000e+00,   2.00000000e+00,   0.00000000e+00,\n",
       "          0.00000000e+00,   0.00000000e+00,   0.00000000e+00,\n",
       "          0.00000000e+00,   0.00000000e+00,   0.00000000e+00,\n",
       "          0.00000000e+00,   0.00000000e+00,   1.00000000e+00,\n",
       "          0.00000000e+00,   0.00000000e+00,   0.00000000e+00,\n",
       "          0.00000000e+00,   0.00000000e+00,   0.00000000e+00,\n",
       "          0.00000000e+00,   0.00000000e+00,   0.00000000e+00,\n",
       "          0.00000000e+00,   0.00000000e+00,   0.00000000e+00,\n",
       "          0.00000000e+00,   0.00000000e+00,   0.00000000e+00,\n",
       "          0.00000000e+00,   0.00000000e+00,   0.00000000e+00,\n",
       "          0.00000000e+00,   0.00000000e+00,   1.00000000e+00,\n",
       "          0.00000000e+00,   0.00000000e+00,   0.00000000e+00,\n",
       "          0.00000000e+00,   0.00000000e+00,   0.00000000e+00,\n",
       "          0.00000000e+00,   0.00000000e+00,   0.00000000e+00,\n",
       "          0.00000000e+00,   0.00000000e+00,   0.00000000e+00,\n",
       "          0.00000000e+00,   0.00000000e+00,   0.00000000e+00,\n",
       "          0.00000000e+00,   0.00000000e+00,   0.00000000e+00,\n",
       "          0.00000000e+00,   0.00000000e+00,   0.00000000e+00,\n",
       "          0.00000000e+00,   0.00000000e+00,   0.00000000e+00,\n",
       "          0.00000000e+00,   0.00000000e+00,   0.00000000e+00,\n",
       "          0.00000000e+00,   0.00000000e+00,   0.00000000e+00,\n",
       "          0.00000000e+00,   0.00000000e+00,   0.00000000e+00,\n",
       "          0.00000000e+00,   0.00000000e+00,   0.00000000e+00,\n",
       "          0.00000000e+00,   0.00000000e+00,   0.00000000e+00,\n",
       "          0.00000000e+00,   0.00000000e+00,   0.00000000e+00,\n",
       "          0.00000000e+00,   0.00000000e+00,   0.00000000e+00,\n",
       "          0.00000000e+00,   0.00000000e+00,   0.00000000e+00,\n",
       "          1.00000000e+00]),\n",
       " array([    0.  ,    49.24,    98.48,   147.72,   196.96,   246.2 ,\n",
       "          295.44,   344.68,   393.92,   443.16,   492.4 ,   541.64,\n",
       "          590.88,   640.12,   689.36,   738.6 ,   787.84,   837.08,\n",
       "          886.32,   935.56,   984.8 ,  1034.04,  1083.28,  1132.52,\n",
       "         1181.76,  1231.  ,  1280.24,  1329.48,  1378.72,  1427.96,\n",
       "         1477.2 ,  1526.44,  1575.68,  1624.92,  1674.16,  1723.4 ,\n",
       "         1772.64,  1821.88,  1871.12,  1920.36,  1969.6 ,  2018.84,\n",
       "         2068.08,  2117.32,  2166.56,  2215.8 ,  2265.04,  2314.28,\n",
       "         2363.52,  2412.76,  2462.  ,  2511.24,  2560.48,  2609.72,\n",
       "         2658.96,  2708.2 ,  2757.44,  2806.68,  2855.92,  2905.16,\n",
       "         2954.4 ,  3003.64,  3052.88,  3102.12,  3151.36,  3200.6 ,\n",
       "         3249.84,  3299.08,  3348.32,  3397.56,  3446.8 ,  3496.04,\n",
       "         3545.28,  3594.52,  3643.76,  3693.  ,  3742.24,  3791.48,\n",
       "         3840.72,  3889.96,  3939.2 ,  3988.44,  4037.68,  4086.92,\n",
       "         4136.16,  4185.4 ,  4234.64,  4283.88,  4333.12,  4382.36,\n",
       "         4431.6 ,  4480.84,  4530.08,  4579.32,  4628.56,  4677.8 ,\n",
       "         4727.04,  4776.28,  4825.52,  4874.76,  4924.  ]),\n",
       " <a list of 100 Patch objects>)"
      ]
     },
     "execution_count": 55,
     "metadata": {},
     "output_type": "execute_result"
    },
    {
     "data": {
      "image/png": "[encoded data removed]",
      "text/plain": [
       "<matplotlib.figure.Figure at 0x10f5a6d68>"
      ]
     },
     "metadata": {},
     "output_type": "display_data"
    }
   ],
   "source": [
    "plt.hist(bot_lens, bins=100)"
   ]
  },
  {
   "cell_type": "code",
   "execution_count": 56,
   "metadata": {
    "collapsed": false
   },
   "outputs": [
    {
     "data": {
      "text/plain": [
       "17832"
      ]
     },
     "execution_count": 56,
     "metadata": {},
     "output_type": "execute_result"
    }
   ],
   "source": [
    "len(human_lens)"
   ]
  },
  {
   "cell_type": "code",
   "execution_count": 57,
   "metadata": {
    "collapsed": false
   },
   "outputs": [
    {
     "data": {
      "text/plain": [
       "12602"
      ]
     },
     "execution_count": 57,
     "metadata": {},
     "output_type": "execute_result"
    }
   ],
   "source": [
    "len(bot_lens)"
   ]
  },
  {
   "cell_type": "code",
   "execution_count": 58,
   "metadata": {
    "collapsed": true
   },
   "outputs": [],
   "source": [
    "filtered_human_lens = list(filter(lambda x: x<200, human_lens))"
   ]
  },
  {
   "cell_type": "code",
   "execution_count": 59,
   "metadata": {
    "collapsed": false
   },
   "outputs": [
    {
     "data": {
      "text/plain": [
       "17781"
      ]
     },
     "execution_count": 59,
     "metadata": {},
     "output_type": "execute_result"
    }
   ],
   "source": [
    "len(filtered_human_lens)"
   ]
  },
  {
   "cell_type": "code",
   "execution_count": 60,
   "metadata": {
    "collapsed": true
   },
   "outputs": [],
   "source": [
    "filtered_bot_lens = list(filter(lambda x: x<200, bot_lens))"
   ]
  },
  {
   "cell_type": "code",
   "execution_count": 61,
   "metadata": {
    "collapsed": false
   },
   "outputs": [
    {
     "data": {
      "text/plain": [
       "12548"
      ]
     },
     "execution_count": 61,
     "metadata": {},
     "output_type": "execute_result"
    }
   ],
   "source": [
    "len(filtered_bot_lens)"
   ]
  },
  {
   "cell_type": "code",
   "execution_count": 62,
   "metadata": {
    "collapsed": false
   },
   "outputs": [
    {
     "data": {
      "text/plain": [
       "(array([ 192.,  815.,  737.,  643.,  645.,  477.,  362.,  450.,  373.,\n",
       "         395.,  420.,  547.,  486.,  472.,  375.,  480.,  490.,  465.,\n",
       "         439.,  403.,  360.,  369.,  355.,  324.,  327.,  350.,  322.,\n",
       "         304.,  241.,  269.,  260.,  251.,  240.,  201.,  199.,  160.,\n",
       "         182.,  167.,  198.,  158.,  133.,  143.,  138.,  130.,  106.,\n",
       "         104.,  110.,   91.,   91.,    0.,   87.,   84.,   86.,   76.,\n",
       "          61.,   47.,   61.,   74.,   70.,   73.,   45.,   47.,   56.,\n",
       "          45.,   39.,   50.,   36.,   30.,   26.,   29.,   30.,   27.,\n",
       "          34.,   19.,   23.,   25.,   21.,   16.,   17.,   20.,   27.,\n",
       "          29.,   16.,   19.,   17.,   10.,    9.,    9.,   15.,   16.,\n",
       "          11.,   11.,    9.,   11.,   10.,   11.,    6.,    8.,   10.,\n",
       "           0.,    7.,    5.,   13.,    4.,    6.,    4.,    5.,    4.,\n",
       "           3.,    6.,    7.,    7.,    2.,    3.,    9.,    4.,    9.,\n",
       "           3.,    7.,    7.,    4.,    6.,    1.,    3.,    5.,    0.,\n",
       "           2.,    3.,    2.,    2.,    2.,    4.,    2.,    4.,    4.,\n",
       "           0.,    5.,    2.,    1.,    4.,    0.,    4.,    2.,    0.,\n",
       "           3.,    5.,    1.,    1.,    0.,    0.,    2.,    0.,    1.,\n",
       "           1.,    2.,    2.,    0.,    0.,    2.,    2.,    1.,    1.,\n",
       "           0.,    3.,    1.,    1.,    0.,    0.,    1.,    1.,    1.,\n",
       "           0.,    0.,    0.,    0.,    1.,    0.,    1.,    1.,    0.,\n",
       "           0.,    0.,    0.,    1.,    0.,    2.,    1.,    0.,    1.,\n",
       "           0.,    0.,    2.,    0.,    0.,    2.,    0.,    1.,    0.,\n",
       "           0.,    2.]),\n",
       " array([   1.  ,    1.98,    2.96,    3.94,    4.92,    5.9 ,    6.88,\n",
       "           7.86,    8.84,    9.82,   10.8 ,   11.78,   12.76,   13.74,\n",
       "          14.72,   15.7 ,   16.68,   17.66,   18.64,   19.62,   20.6 ,\n",
       "          21.58,   22.56,   23.54,   24.52,   25.5 ,   26.48,   27.46,\n",
       "          28.44,   29.42,   30.4 ,   31.38,   32.36,   33.34,   34.32,\n",
       "          35.3 ,   36.28,   37.26,   38.24,   39.22,   40.2 ,   41.18,\n",
       "          42.16,   43.14,   44.12,   45.1 ,   46.08,   47.06,   48.04,\n",
       "          49.02,   50.  ,   50.98,   51.96,   52.94,   53.92,   54.9 ,\n",
       "          55.88,   56.86,   57.84,   58.82,   59.8 ,   60.78,   61.76,\n",
       "          62.74,   63.72,   64.7 ,   65.68,   66.66,   67.64,   68.62,\n",
       "          69.6 ,   70.58,   71.56,   72.54,   73.52,   74.5 ,   75.48,\n",
       "          76.46,   77.44,   78.42,   79.4 ,   80.38,   81.36,   82.34,\n",
       "          83.32,   84.3 ,   85.28,   86.26,   87.24,   88.22,   89.2 ,\n",
       "          90.18,   91.16,   92.14,   93.12,   94.1 ,   95.08,   96.06,\n",
       "          97.04,   98.02,   99.  ,   99.98,  100.96,  101.94,  102.92,\n",
       "         103.9 ,  104.88,  105.86,  106.84,  107.82,  108.8 ,  109.78,\n",
       "         110.76,  111.74,  112.72,  113.7 ,  114.68,  115.66,  116.64,\n",
       "         117.62,  118.6 ,  119.58,  120.56,  121.54,  122.52,  123.5 ,\n",
       "         124.48,  125.46,  126.44,  127.42,  128.4 ,  129.38,  130.36,\n",
       "         131.34,  132.32,  133.3 ,  134.28,  135.26,  136.24,  137.22,\n",
       "         138.2 ,  139.18,  140.16,  141.14,  142.12,  143.1 ,  144.08,\n",
       "         145.06,  146.04,  147.02,  148.  ,  148.98,  149.96,  150.94,\n",
       "         151.92,  152.9 ,  153.88,  154.86,  155.84,  156.82,  157.8 ,\n",
       "         158.78,  159.76,  160.74,  161.72,  162.7 ,  163.68,  164.66,\n",
       "         165.64,  166.62,  167.6 ,  168.58,  169.56,  170.54,  171.52,\n",
       "         172.5 ,  173.48,  174.46,  175.44,  176.42,  177.4 ,  178.38,\n",
       "         179.36,  180.34,  181.32,  182.3 ,  183.28,  184.26,  185.24,\n",
       "         186.22,  187.2 ,  188.18,  189.16,  190.14,  191.12,  192.1 ,\n",
       "         193.08,  194.06,  195.04,  196.02,  197.  ]),\n",
       " <a list of 200 Patch objects>)"
      ]
     },
     "execution_count": 62,
     "metadata": {},
     "output_type": "execute_result"
    },
    {
     "data": {
      "image/png": "[encoded data removed]",
      "text/plain": [
       "<matplotlib.figure.Figure at 0x10677cf28>"
      ]
     },
     "metadata": {},
     "output_type": "display_data"
    }
   ],
   "source": [
    "plt.hist(filtered_human_lens, bins=200)"
   ]
  },
  {
   "cell_type": "code",
   "execution_count": 63,
   "metadata": {
    "collapsed": false
   },
   "outputs": [
    {
     "data": {
      "text/plain": [
       "(array([ 216.,   88.,  189.,  373.,  458.,  695.,  339.,  193.,  256.,\n",
       "         345.,  313.,  188.,  339.,  498.,  157.,  346.,  104.,  157.,\n",
       "         168.,  151.,  176.,  104.,  147.,  168.,  138.,  156.,  173.,\n",
       "         189.,  176.,  185.,  136.,  118.,  127.,  135.,  105.,  200.,\n",
       "         149.,  110.,  101.,  149.,   98.,  115.,  116.,   89.,  206.,\n",
       "         132.,   81.,   79.,   86.,    0.,   81.,   51.,   65.,   80.,\n",
       "         183.,   83.,   58.,   56.,  200.,   70.,   80.,   46.,   44.,\n",
       "          39.,   46.,   37.,   37.,   59.,   56.,   48.,   38.,   24.,\n",
       "          41.,   22.,   21.,   37.,   29.,   28.,   27.,   26.,   21.,\n",
       "          31.,   30.,   28.,   32.,   34.,   29.,   28.,   22.,   20.,\n",
       "          23.,   31.,   28.,   24.,   17.,   24.,   19.,   26.,   33.,\n",
       "           0.,   24.,   21.,   11.,   41.,   34.,   12.,   26.,   21.,\n",
       "          13.,   17.,   11.,   15.,   16.,    5.,    6.,    8.,   15.,\n",
       "           3.,    5.,    5.,    5.,    3.,    5.,    7.,    5.,    9.,\n",
       "           4.,    7.,    5.,    3.,    1.,    0.,    8.,    5.,    1.,\n",
       "           1.,    2.,    1.,    4.,  165.,    2.,    1.,    3.,    7.,\n",
       "           0.,  148.,    4.,    5.,    3.,    0.,    4.,    2.,    7.,\n",
       "           6.,    3.,    5.,    2.,    1.,    3.,    5.,    2.,    1.,\n",
       "           1.,    3.,    1.,    1.,    3.,    4.,    1.,    0.,    1.,\n",
       "           2.,    2.,    4.,    4.,    1.,    1.,    2.,    2.,    3.,\n",
       "           0.,    1.,    1.,    2.,    1.,    0.,    0.,    0.,    1.,\n",
       "           2.,    1.,    6.,    1.,    0.,    0.,    0.,    0.,    2.,\n",
       "           0.,    1.]),\n",
       " array([   0.  ,    0.98,    1.96,    2.94,    3.92,    4.9 ,    5.88,\n",
       "           6.86,    7.84,    8.82,    9.8 ,   10.78,   11.76,   12.74,\n",
       "          13.72,   14.7 ,   15.68,   16.66,   17.64,   18.62,   19.6 ,\n",
       "          20.58,   21.56,   22.54,   23.52,   24.5 ,   25.48,   26.46,\n",
       "          27.44,   28.42,   29.4 ,   30.38,   31.36,   32.34,   33.32,\n",
       "          34.3 ,   35.28,   36.26,   37.24,   38.22,   39.2 ,   40.18,\n",
       "          41.16,   42.14,   43.12,   44.1 ,   45.08,   46.06,   47.04,\n",
       "          48.02,   49.  ,   49.98,   50.96,   51.94,   52.92,   53.9 ,\n",
       "          54.88,   55.86,   56.84,   57.82,   58.8 ,   59.78,   60.76,\n",
       "          61.74,   62.72,   63.7 ,   64.68,   65.66,   66.64,   67.62,\n",
       "          68.6 ,   69.58,   70.56,   71.54,   72.52,   73.5 ,   74.48,\n",
       "          75.46,   76.44,   77.42,   78.4 ,   79.38,   80.36,   81.34,\n",
       "          82.32,   83.3 ,   84.28,   85.26,   86.24,   87.22,   88.2 ,\n",
       "          89.18,   90.16,   91.14,   92.12,   93.1 ,   94.08,   95.06,\n",
       "          96.04,   97.02,   98.  ,   98.98,   99.96,  100.94,  101.92,\n",
       "         102.9 ,  103.88,  104.86,  105.84,  106.82,  107.8 ,  108.78,\n",
       "         109.76,  110.74,  111.72,  112.7 ,  113.68,  114.66,  115.64,\n",
       "         116.62,  117.6 ,  118.58,  119.56,  120.54,  121.52,  122.5 ,\n",
       "         123.48,  124.46,  125.44,  126.42,  127.4 ,  128.38,  129.36,\n",
       "         130.34,  131.32,  132.3 ,  133.28,  134.26,  135.24,  136.22,\n",
       "         137.2 ,  138.18,  139.16,  140.14,  141.12,  142.1 ,  143.08,\n",
       "         144.06,  145.04,  146.02,  147.  ,  147.98,  148.96,  149.94,\n",
       "         150.92,  151.9 ,  152.88,  153.86,  154.84,  155.82,  156.8 ,\n",
       "         157.78,  158.76,  159.74,  160.72,  161.7 ,  162.68,  163.66,\n",
       "         164.64,  165.62,  166.6 ,  167.58,  168.56,  169.54,  170.52,\n",
       "         171.5 ,  172.48,  173.46,  174.44,  175.42,  176.4 ,  177.38,\n",
       "         178.36,  179.34,  180.32,  181.3 ,  182.28,  183.26,  184.24,\n",
       "         185.22,  186.2 ,  187.18,  188.16,  189.14,  190.12,  191.1 ,\n",
       "         192.08,  193.06,  194.04,  195.02,  196.  ]),\n",
       " <a list of 200 Patch objects>)"
      ]
     },
     "execution_count": 63,
     "metadata": {},
     "output_type": "execute_result"
    },
    {
     "data": {
      "image/png": "[encoded data removed]",
      "text/plain": [
       "<matplotlib.figure.Figure at 0x10651dd68>"
      ]
     },
     "metadata": {},
     "output_type": "display_data"
    }
   ],
   "source": [
    "plt.hist(filtered_bot_lens, bins=200)"
   ]
  },
  {
   "cell_type": "markdown",
   "metadata": {},
   "source": [
    "## Utterance char lengths for human and bot"
   ]
  },
  {
   "cell_type": "code",
   "execution_count": 64,
   "metadata": {
    "collapsed": false
   },
   "outputs": [
    {
     "data": {
      "text/plain": [
       "<matplotlib.legend.Legend at 0x104fdddd8>"
      ]
     },
     "execution_count": 64,
     "metadata": {},
     "output_type": "execute_result"
    },
    {
     "data": {
      "image/png": "[encoded data removed]",
      "text/plain": [
       "<matplotlib.figure.Figure at 0x1063bcfd0>"
      ]
     },
     "metadata": {},
     "output_type": "display_data"
    }
   ],
   "source": [
    "bins = 200\n",
    "\n",
    "plt.hist(filtered_human_lens, bins, alpha=0.5, label='human')\n",
    "plt.hist(filtered_bot_lens, bins, alpha=0.5, label='bot')\n",
    "plt.legend(loc='upper right')"
   ]
  },
  {
   "cell_type": "markdown",
   "metadata": {},
   "source": [
    "## Utterance evaluation distribution"
   ]
  },
  {
   "cell_type": "code",
   "execution_count": 65,
   "metadata": {
    "collapsed": false
   },
   "outputs": [
    {
     "data": {
      "text/plain": [
       "{'context': \"Originally, every electronic component had wire leads, and the PCB had holes drilled for each wire of each component. The components' leads were then passed through the holes and soldered to the PCB trace. This method of assembly is called through-hole construction. In 1949, Moe Abramson and Stanislaus F. Danko of the United States Army Signal Corps developed the Auto-Sembly process in which component leads were inserted into a copper foil interconnection pattern and dip soldered. The patent they obtained in 1956 was assigned to the U.S. Army. With the development of board lamination and etching techniques, this concept evolved into the standard printed circuit board fabrication process in use today. Soldering could be done automatically by passing the board over a ripple, or wave, of molten solder in a wave-soldering machine. However, the wires and holes are wasteful since drilling holes is expensive and the protruding wires are merely cut off.\",\n",
       " 'dialogId': -749262821,\n",
       " 'evaluation': [{'breadth': 1, 'engagement': 1, 'quality': 1, 'userId': 'Bob'},\n",
       "  {'breadth': 2, 'engagement': 2, 'quality': 2, 'userId': 'Alice'}],\n",
       " 'thread': [{'evaluation': 2, 'text': 'Hi', 'userId': 'Bob'},\n",
       "  {'evaluation': 0, 'text': 'Hi', 'userId': 'Alice'},\n",
       "  {'evaluation': 0, 'text': 'What do you think abouy it?', 'userId': 'Bob'},\n",
       "  {'evaluation': 0, 'text': 'About what?', 'userId': 'Alice'},\n",
       "  {'evaluation': 0, 'text': 'About text', 'userId': 'Bob'}],\n",
       " 'users': [{'id': 'Alice', 'userType': 'Human'},\n",
       "  {'id': 'Bob', 'userType': 'Human'}]}"
      ]
     },
     "execution_count": 65,
     "metadata": {},
     "output_type": "execute_result"
    }
   ],
   "source": [
    "dataset[2]\n"
   ]
  },
  {
   "cell_type": "code",
   "execution_count": 66,
   "metadata": {
    "collapsed": true
   },
   "outputs": [],
   "source": [
    "human_eval = []\n",
    "bot_eval = []\n",
    "for d in dataset:\n",
    "    for user in d[\"users\"]:\n",
    "        if user[\"id\"] == \"Alice\":\n",
    "            Alice = True if user[\"userType\"] == \"Human\" else False\n",
    "        elif user[\"id\"] == \"Bob\":\n",
    "            Bob = True if user[\"userType\"] == \"Human\" else False\n",
    "    for u in d[\"thread\"]:\n",
    "        if u[\"userId\"] == \"Alice\":\n",
    "            if Alice:\n",
    "                human_eval.append(u[\"evaluation\"])\n",
    "            else:\n",
    "                bot_eval.append(u[\"evaluation\"])\n",
    "        elif u[\"userId\"] == \"Bob\":\n",
    "            if Bob:\n",
    "                human_eval.append(u[\"evaluation\"])\n",
    "            else:\n",
    "                bot_eval.append(u[\"evaluation\"])"
   ]
  },
  {
   "cell_type": "code",
   "execution_count": 68,
   "metadata": {
    "collapsed": false
   },
   "outputs": [
    {
     "data": {
      "text/plain": [
       "<matplotlib.legend.Legend at 0x1123b00f0>"
      ]
     },
     "execution_count": 68,
     "metadata": {},
     "output_type": "execute_result"
    },
    {
     "data": {
      "image/png": "[encoded data removed]",
      "text/plain": [
       "<matplotlib.figure.Figure at 0x1122b4cc0>"
      ]
     },
     "metadata": {},
     "output_type": "display_data"
    }
   ],
   "source": [
    "bins = 3\n",
    "\n",
    "plt.hist(human_eval, bins, alpha=0.5, label='human')\n",
    "plt.hist(bot_eval, bins, alpha=0.5, label='bot')\n",
    "plt.legend(loc='upper right')"
   ]
  },
  {
   "cell_type": "markdown",
   "metadata": {},
   "source": [
    "## Quality distribution"
   ]
  },
  {
   "cell_type": "code",
   "execution_count": 69,
   "metadata": {
    "collapsed": true
   },
   "outputs": [],
   "source": [
    "human_quality = []\n",
    "bot_quality = []\n",
    "for d in dataset:\n",
    "    for user in d[\"users\"]:\n",
    "        if user[\"id\"] == \"Alice\":\n",
    "            Alice = True if user[\"userType\"] == \"Human\" else False\n",
    "        elif user[\"id\"] == \"Bob\":\n",
    "            Bob = True if user[\"userType\"] == \"Human\" else False\n",
    "    for u in d[\"evaluation\"]:\n",
    "        if u[\"userId\"] == \"Alice\":\n",
    "            if Alice:\n",
    "                human_quality.append(u[\"quality\"])\n",
    "            else:\n",
    "                bot_quality.append(u[\"quality\"])\n",
    "        elif u[\"userId\"] == \"Bob\":\n",
    "            if Bob:\n",
    "                human_eval.append(u[\"quality\"])\n",
    "            else:\n",
    "                bot_eval.append(u[\"quality\"])"
   ]
  },
  {
   "cell_type": "code",
   "execution_count": 71,
   "metadata": {
    "collapsed": false
   },
   "outputs": [
    {
     "data": {
      "text/plain": [
       "<matplotlib.legend.Legend at 0x1126db5f8>"
      ]
     },
     "execution_count": 71,
     "metadata": {},
     "output_type": "execute_result"
    },
    {
     "data": {
      "image/png": "[encoded data removed]",
      "text/plain": [
       "<matplotlib.figure.Figure at 0x1125dc2e8>"
      ]
     },
     "metadata": {},
     "output_type": "display_data"
    }
   ],
   "source": [
    "bins = 6\n",
    "\n",
    "plt.hist(human_quality, bins, alpha=0.5, label='human')\n",
    "plt.hist(bot_quality, bins, alpha=0.5, label='bot')\n",
    "plt.legend(loc='upper right')"
   ]
  },
  {
   "cell_type": "markdown",
   "metadata": {},
   "source": [
    "## Engagement distribution"
   ]
  },
  {
   "cell_type": "code",
   "execution_count": 72,
   "metadata": {
    "collapsed": true
   },
   "outputs": [],
   "source": [
    "human_quality = []\n",
    "bot_quality = []\n",
    "for d in dataset:\n",
    "    for user in d[\"users\"]:\n",
    "        if user[\"id\"] == \"Alice\":\n",
    "            Alice = True if user[\"userType\"] == \"Human\" else False\n",
    "        elif user[\"id\"] == \"Bob\":\n",
    "            Bob = True if user[\"userType\"] == \"Human\" else False\n",
    "    for u in d[\"evaluation\"]:\n",
    "        if u[\"userId\"] == \"Alice\":\n",
    "            if Alice:\n",
    "                human_quality.append(u[\"engagement\"])\n",
    "            else:\n",
    "                bot_quality.append(u[\"engagement\"])\n",
    "        elif u[\"userId\"] == \"Bob\":\n",
    "            if Bob:\n",
    "                human_eval.append(u[\"engagement\"])\n",
    "            else:\n",
    "                bot_eval.append(u[\"engagement\"])"
   ]
  },
  {
   "cell_type": "code",
   "execution_count": 73,
   "metadata": {
    "collapsed": false
   },
   "outputs": [
    {
     "data": {
      "text/plain": [
       "<matplotlib.legend.Legend at 0x11276e828>"
      ]
     },
     "execution_count": 73,
     "metadata": {},
     "output_type": "execute_result"
    },
    {
     "data": {
      "image/png": "[encoded data removed]",
      "text/plain": [
       "<matplotlib.figure.Figure at 0x1126e9ba8>"
      ]
     },
     "metadata": {},
     "output_type": "display_data"
    }
   ],
   "source": [
    "bins = 6\n",
    "\n",
    "plt.hist(human_quality, bins, alpha=0.5, label='human')\n",
    "plt.hist(bot_quality, bins, alpha=0.5, label='bot')\n",
    "plt.legend(loc='upper right')"
   ]
  },
  {
   "cell_type": "code",
   "execution_count": null,
   "metadata": {
    "collapsed": true
   },
   "outputs": [],
   "source": []
  },
  {
   "cell_type": "markdown",
   "metadata": {},
   "source": [
    "## Breadth distribution"
   ]
  },
  {
   "cell_type": "code",
   "execution_count": 74,
   "metadata": {
    "collapsed": true
   },
   "outputs": [],
   "source": [
    "human_quality = []\n",
    "bot_quality = []\n",
    "for d in dataset:\n",
    "    for user in d[\"users\"]:\n",
    "        if user[\"id\"] == \"Alice\":\n",
    "            Alice = True if user[\"userType\"] == \"Human\" else False\n",
    "        elif user[\"id\"] == \"Bob\":\n",
    "            Bob = True if user[\"userType\"] == \"Human\" else False\n",
    "    for u in d[\"evaluation\"]:\n",
    "        if u[\"userId\"] == \"Alice\":\n",
    "            if Alice:\n",
    "                human_quality.append(u[\"breadth\"])\n",
    "            else:\n",
    "                bot_quality.append(u[\"breadth\"])\n",
    "        elif u[\"userId\"] == \"Bob\":\n",
    "            if Bob:\n",
    "                human_eval.append(u[\"breadth\"])\n",
    "            else:\n",
    "                bot_eval.append(u[\"breadth\"])"
   ]
  },
  {
   "cell_type": "code",
   "execution_count": 75,
   "metadata": {
    "collapsed": false
   },
   "outputs": [
    {
     "data": {
      "text/plain": [
       "<matplotlib.legend.Legend at 0x11296d978>"
      ]
     },
     "execution_count": 75,
     "metadata": {},
     "output_type": "execute_result"
    },
    {
     "data": {
      "image/png": "[encoded data removed]",
      "text/plain": [
       "<matplotlib.figure.Figure at 0x1128442e8>"
      ]
     },
     "metadata": {},
     "output_type": "display_data"
    }
   ],
   "source": [
    "bins = 6\n",
    "\n",
    "plt.hist(human_quality, bins, alpha=0.5, label='human')\n",
    "plt.hist(bot_quality, bins, alpha=0.5, label='bot')\n",
    "plt.legend(loc='upper right')"
   ]
  },
  {
   "cell_type": "markdown",
   "metadata": {},
   "source": [
    "## English Proficiency distribution"
   ]
  },
  {
   "cell_type": "code",
   "execution_count": 76,
   "metadata": {
    "collapsed": true
   },
   "outputs": [],
   "source": [
    "profs = []\n",
    "with open(\"assessors.list\") as f:\n",
    "    for line in f:\n",
    "        profs.append(json.loads(line)[\"level\"])"
   ]
  },
  {
   "cell_type": "code",
   "execution_count": 79,
   "metadata": {
    "collapsed": false
   },
   "outputs": [
    {
     "data": {
      "text/plain": [
       "(array([  34.,   51.,  241.,  176.,   13.]),\n",
       " array([ 1. ,  1.8,  2.6,  3.4,  4.2,  5. ]),\n",
       " <a list of 5 Patch objects>)"
      ]
     },
     "execution_count": 79,
     "metadata": {},
     "output_type": "execute_result"
    },
    {
     "data": {
      "image/png": "[encoded data removed]",
      "text/plain": [
       "<matplotlib.figure.Figure at 0x112c179b0>"
      ]
     },
     "metadata": {},
     "output_type": "display_data"
    }
   ],
   "source": [
    "plt.hist(profs, bins=5)"
   ]
  },
  {
   "cell_type": "code",
   "execution_count": null,
   "metadata": {
    "collapsed": true
   },
   "outputs": [],
   "source": []
  }
 ],
 "metadata": {
  "anaconda-cloud": {},
  "kernelspec": {
   "display_name": "Python [default]",
   "language": "python",
   "name": "python3"
  },
  "language_info": {
   "codemirror_mode": {
    "name": "ipython",
    "version": 3
   },
   "file_extension": ".py",
   "mimetype": "text/x-python",
   "name": "python",
   "nbconvert_exporter": "python",
   "pygments_lexer": "ipython3",
   "version": "3.5.2"
  }
 },
 "nbformat": 4,
 "nbformat_minor": 1
}
